{
 "cells": [
  {
   "cell_type": "markdown",
   "metadata": {
    "collapsed": true
   },
   "source": [
    "###  Model with multiple layer"
   ]
  },
  {
   "cell_type": "code",
   "execution_count": 3,
   "metadata": {
    "collapsed": true
   },
   "outputs": [],
   "source": [
    "import pandas as pd\n",
    "import numpy as np\n",
    "import os\n",
    "import time"
   ]
  },
  {
   "cell_type": "code",
   "execution_count": 4,
   "metadata": {
    "collapsed": true
   },
   "outputs": [],
   "source": [
    "train   = pd.read_csv(\"./default.csv\", sep=\";\",low_memory=False)"
   ]
  },
  {
   "cell_type": "code",
   "execution_count": 5,
   "metadata": {},
   "outputs": [
    {
     "data": {
      "text/html": [
       "<div>\n",
       "<table border=\"1\" class=\"dataframe\">\n",
       "  <thead>\n",
       "    <tr style=\"text-align: right;\">\n",
       "      <th></th>\n",
       "      <th>Unnamed: 0</th>\n",
       "      <th>X1</th>\n",
       "      <th>X2</th>\n",
       "      <th>X3</th>\n",
       "      <th>X4</th>\n",
       "      <th>X5</th>\n",
       "      <th>X6</th>\n",
       "      <th>X7</th>\n",
       "      <th>X8</th>\n",
       "      <th>X9</th>\n",
       "      <th>...</th>\n",
       "      <th>X15</th>\n",
       "      <th>X16</th>\n",
       "      <th>X17</th>\n",
       "      <th>X18</th>\n",
       "      <th>X19</th>\n",
       "      <th>X20</th>\n",
       "      <th>X21</th>\n",
       "      <th>X22</th>\n",
       "      <th>X23</th>\n",
       "      <th>Y</th>\n",
       "    </tr>\n",
       "  </thead>\n",
       "  <tbody>\n",
       "    <tr>\n",
       "      <th>0</th>\n",
       "      <td>1</td>\n",
       "      <td>20000</td>\n",
       "      <td>2</td>\n",
       "      <td>2</td>\n",
       "      <td>1</td>\n",
       "      <td>24</td>\n",
       "      <td>2</td>\n",
       "      <td>2</td>\n",
       "      <td>-1</td>\n",
       "      <td>-1</td>\n",
       "      <td>...</td>\n",
       "      <td>0</td>\n",
       "      <td>0</td>\n",
       "      <td>0</td>\n",
       "      <td>0</td>\n",
       "      <td>689</td>\n",
       "      <td>0</td>\n",
       "      <td>0</td>\n",
       "      <td>0</td>\n",
       "      <td>0</td>\n",
       "      <td>1</td>\n",
       "    </tr>\n",
       "    <tr>\n",
       "      <th>1</th>\n",
       "      <td>2</td>\n",
       "      <td>120000</td>\n",
       "      <td>2</td>\n",
       "      <td>2</td>\n",
       "      <td>2</td>\n",
       "      <td>26</td>\n",
       "      <td>-1</td>\n",
       "      <td>2</td>\n",
       "      <td>0</td>\n",
       "      <td>0</td>\n",
       "      <td>...</td>\n",
       "      <td>3272</td>\n",
       "      <td>3455</td>\n",
       "      <td>3261</td>\n",
       "      <td>0</td>\n",
       "      <td>1000</td>\n",
       "      <td>1000</td>\n",
       "      <td>1000</td>\n",
       "      <td>0</td>\n",
       "      <td>2000</td>\n",
       "      <td>1</td>\n",
       "    </tr>\n",
       "    <tr>\n",
       "      <th>2</th>\n",
       "      <td>3</td>\n",
       "      <td>90000</td>\n",
       "      <td>2</td>\n",
       "      <td>2</td>\n",
       "      <td>2</td>\n",
       "      <td>34</td>\n",
       "      <td>0</td>\n",
       "      <td>0</td>\n",
       "      <td>0</td>\n",
       "      <td>0</td>\n",
       "      <td>...</td>\n",
       "      <td>14331</td>\n",
       "      <td>14948</td>\n",
       "      <td>15549</td>\n",
       "      <td>1518</td>\n",
       "      <td>1500</td>\n",
       "      <td>1000</td>\n",
       "      <td>1000</td>\n",
       "      <td>1000</td>\n",
       "      <td>5000</td>\n",
       "      <td>0</td>\n",
       "    </tr>\n",
       "    <tr>\n",
       "      <th>3</th>\n",
       "      <td>4</td>\n",
       "      <td>50000</td>\n",
       "      <td>2</td>\n",
       "      <td>2</td>\n",
       "      <td>1</td>\n",
       "      <td>37</td>\n",
       "      <td>0</td>\n",
       "      <td>0</td>\n",
       "      <td>0</td>\n",
       "      <td>0</td>\n",
       "      <td>...</td>\n",
       "      <td>28314</td>\n",
       "      <td>28959</td>\n",
       "      <td>29547</td>\n",
       "      <td>2000</td>\n",
       "      <td>2019</td>\n",
       "      <td>1200</td>\n",
       "      <td>1100</td>\n",
       "      <td>1069</td>\n",
       "      <td>1000</td>\n",
       "      <td>0</td>\n",
       "    </tr>\n",
       "    <tr>\n",
       "      <th>4</th>\n",
       "      <td>5</td>\n",
       "      <td>50000</td>\n",
       "      <td>1</td>\n",
       "      <td>2</td>\n",
       "      <td>1</td>\n",
       "      <td>57</td>\n",
       "      <td>-1</td>\n",
       "      <td>0</td>\n",
       "      <td>-1</td>\n",
       "      <td>0</td>\n",
       "      <td>...</td>\n",
       "      <td>20940</td>\n",
       "      <td>19146</td>\n",
       "      <td>19131</td>\n",
       "      <td>2000</td>\n",
       "      <td>36681</td>\n",
       "      <td>10000</td>\n",
       "      <td>9000</td>\n",
       "      <td>689</td>\n",
       "      <td>679</td>\n",
       "      <td>0</td>\n",
       "    </tr>\n",
       "  </tbody>\n",
       "</table>\n",
       "<p>5 rows × 25 columns</p>\n",
       "</div>"
      ],
      "text/plain": [
       "   Unnamed: 0      X1  X2  X3  X4  X5  X6  X7  X8  X9 ...    X15    X16  \\\n",
       "0           1   20000   2   2   1  24   2   2  -1  -1 ...      0      0   \n",
       "1           2  120000   2   2   2  26  -1   2   0   0 ...   3272   3455   \n",
       "2           3   90000   2   2   2  34   0   0   0   0 ...  14331  14948   \n",
       "3           4   50000   2   2   1  37   0   0   0   0 ...  28314  28959   \n",
       "4           5   50000   1   2   1  57  -1   0  -1   0 ...  20940  19146   \n",
       "\n",
       "     X17   X18    X19    X20   X21   X22   X23  Y  \n",
       "0      0     0    689      0     0     0     0  1  \n",
       "1   3261     0   1000   1000  1000     0  2000  1  \n",
       "2  15549  1518   1500   1000  1000  1000  5000  0  \n",
       "3  29547  2000   2019   1200  1100  1069  1000  0  \n",
       "4  19131  2000  36681  10000  9000   689   679  0  \n",
       "\n",
       "[5 rows x 25 columns]"
      ]
     },
     "execution_count": 5,
     "metadata": {},
     "output_type": "execute_result"
    }
   ],
   "source": [
    "train.head()"
   ]
  },
  {
   "cell_type": "code",
   "execution_count": 6,
   "metadata": {
    "collapsed": true
   },
   "outputs": [],
   "source": [
    "train = train.drop(\"Unnamed: 0\",axis = 1)"
   ]
  },
  {
   "cell_type": "code",
   "execution_count": 7,
   "metadata": {},
   "outputs": [
    {
     "data": {
      "text/html": [
       "<div>\n",
       "<table border=\"1\" class=\"dataframe\">\n",
       "  <thead>\n",
       "    <tr style=\"text-align: right;\">\n",
       "      <th></th>\n",
       "      <th>X1</th>\n",
       "      <th>X2</th>\n",
       "      <th>X3</th>\n",
       "      <th>X4</th>\n",
       "      <th>X5</th>\n",
       "      <th>X6</th>\n",
       "      <th>X7</th>\n",
       "      <th>X8</th>\n",
       "      <th>X9</th>\n",
       "      <th>X10</th>\n",
       "      <th>...</th>\n",
       "      <th>X15</th>\n",
       "      <th>X16</th>\n",
       "      <th>X17</th>\n",
       "      <th>X18</th>\n",
       "      <th>X19</th>\n",
       "      <th>X20</th>\n",
       "      <th>X21</th>\n",
       "      <th>X22</th>\n",
       "      <th>X23</th>\n",
       "      <th>Y</th>\n",
       "    </tr>\n",
       "  </thead>\n",
       "  <tbody>\n",
       "    <tr>\n",
       "      <th>0</th>\n",
       "      <td>20000</td>\n",
       "      <td>2</td>\n",
       "      <td>2</td>\n",
       "      <td>1</td>\n",
       "      <td>24</td>\n",
       "      <td>2</td>\n",
       "      <td>2</td>\n",
       "      <td>-1</td>\n",
       "      <td>-1</td>\n",
       "      <td>-2</td>\n",
       "      <td>...</td>\n",
       "      <td>0</td>\n",
       "      <td>0</td>\n",
       "      <td>0</td>\n",
       "      <td>0</td>\n",
       "      <td>689</td>\n",
       "      <td>0</td>\n",
       "      <td>0</td>\n",
       "      <td>0</td>\n",
       "      <td>0</td>\n",
       "      <td>1</td>\n",
       "    </tr>\n",
       "    <tr>\n",
       "      <th>1</th>\n",
       "      <td>120000</td>\n",
       "      <td>2</td>\n",
       "      <td>2</td>\n",
       "      <td>2</td>\n",
       "      <td>26</td>\n",
       "      <td>-1</td>\n",
       "      <td>2</td>\n",
       "      <td>0</td>\n",
       "      <td>0</td>\n",
       "      <td>0</td>\n",
       "      <td>...</td>\n",
       "      <td>3272</td>\n",
       "      <td>3455</td>\n",
       "      <td>3261</td>\n",
       "      <td>0</td>\n",
       "      <td>1000</td>\n",
       "      <td>1000</td>\n",
       "      <td>1000</td>\n",
       "      <td>0</td>\n",
       "      <td>2000</td>\n",
       "      <td>1</td>\n",
       "    </tr>\n",
       "    <tr>\n",
       "      <th>2</th>\n",
       "      <td>90000</td>\n",
       "      <td>2</td>\n",
       "      <td>2</td>\n",
       "      <td>2</td>\n",
       "      <td>34</td>\n",
       "      <td>0</td>\n",
       "      <td>0</td>\n",
       "      <td>0</td>\n",
       "      <td>0</td>\n",
       "      <td>0</td>\n",
       "      <td>...</td>\n",
       "      <td>14331</td>\n",
       "      <td>14948</td>\n",
       "      <td>15549</td>\n",
       "      <td>1518</td>\n",
       "      <td>1500</td>\n",
       "      <td>1000</td>\n",
       "      <td>1000</td>\n",
       "      <td>1000</td>\n",
       "      <td>5000</td>\n",
       "      <td>0</td>\n",
       "    </tr>\n",
       "    <tr>\n",
       "      <th>3</th>\n",
       "      <td>50000</td>\n",
       "      <td>2</td>\n",
       "      <td>2</td>\n",
       "      <td>1</td>\n",
       "      <td>37</td>\n",
       "      <td>0</td>\n",
       "      <td>0</td>\n",
       "      <td>0</td>\n",
       "      <td>0</td>\n",
       "      <td>0</td>\n",
       "      <td>...</td>\n",
       "      <td>28314</td>\n",
       "      <td>28959</td>\n",
       "      <td>29547</td>\n",
       "      <td>2000</td>\n",
       "      <td>2019</td>\n",
       "      <td>1200</td>\n",
       "      <td>1100</td>\n",
       "      <td>1069</td>\n",
       "      <td>1000</td>\n",
       "      <td>0</td>\n",
       "    </tr>\n",
       "    <tr>\n",
       "      <th>4</th>\n",
       "      <td>50000</td>\n",
       "      <td>1</td>\n",
       "      <td>2</td>\n",
       "      <td>1</td>\n",
       "      <td>57</td>\n",
       "      <td>-1</td>\n",
       "      <td>0</td>\n",
       "      <td>-1</td>\n",
       "      <td>0</td>\n",
       "      <td>0</td>\n",
       "      <td>...</td>\n",
       "      <td>20940</td>\n",
       "      <td>19146</td>\n",
       "      <td>19131</td>\n",
       "      <td>2000</td>\n",
       "      <td>36681</td>\n",
       "      <td>10000</td>\n",
       "      <td>9000</td>\n",
       "      <td>689</td>\n",
       "      <td>679</td>\n",
       "      <td>0</td>\n",
       "    </tr>\n",
       "  </tbody>\n",
       "</table>\n",
       "<p>5 rows × 24 columns</p>\n",
       "</div>"
      ],
      "text/plain": [
       "       X1  X2  X3  X4  X5  X6  X7  X8  X9  X10 ...    X15    X16    X17   X18  \\\n",
       "0   20000   2   2   1  24   2   2  -1  -1   -2 ...      0      0      0     0   \n",
       "1  120000   2   2   2  26  -1   2   0   0    0 ...   3272   3455   3261     0   \n",
       "2   90000   2   2   2  34   0   0   0   0    0 ...  14331  14948  15549  1518   \n",
       "3   50000   2   2   1  37   0   0   0   0    0 ...  28314  28959  29547  2000   \n",
       "4   50000   1   2   1  57  -1   0  -1   0    0 ...  20940  19146  19131  2000   \n",
       "\n",
       "     X19    X20   X21   X22   X23  Y  \n",
       "0    689      0     0     0     0  1  \n",
       "1   1000   1000  1000     0  2000  1  \n",
       "2   1500   1000  1000  1000  5000  0  \n",
       "3   2019   1200  1100  1069  1000  0  \n",
       "4  36681  10000  9000   689   679  0  \n",
       "\n",
       "[5 rows x 24 columns]"
      ]
     },
     "execution_count": 7,
     "metadata": {},
     "output_type": "execute_result"
    }
   ],
   "source": [
    "train.head()"
   ]
  },
  {
   "cell_type": "code",
   "execution_count": 8,
   "metadata": {},
   "outputs": [
    {
     "name": "stderr",
     "output_type": "stream",
     "text": [
      "Using TensorFlow backend.\n"
     ]
    }
   ],
   "source": [
    "from sklearn.model_selection import train_test_split\n",
    "from keras.utils.np_utils import to_categorical\n",
    "from sklearn.preprocessing import LabelEncoder\n",
    "from sklearn.preprocessing import StandardScaler\n",
    "import random\n",
    "\n",
    "X = train[train.columns[~train.columns.isin(['Y'])]]\n",
    "y = train[['Y']]\n",
    "\n",
    "X_scaled = StandardScaler().fit(X).transform(X)\n",
    "\n",
    "X_scaled = pd.DataFrame(X_scaled) \n",
    "\n",
    "X_scaled.columns = X.columns\n",
    "\n",
    "random.seed(1)\n",
    "X_train, X_valid, y_train, y_valid = train_test_split(X_scaled, y, test_size=0.2, stratify = y)"
   ]
  },
  {
   "cell_type": "code",
   "execution_count": 9,
   "metadata": {
    "collapsed": true
   },
   "outputs": [],
   "source": [
    "y_train = np.asarray(y_train).astype('float32')\n",
    "y_valid = np.asarray(y_valid).astype('float32')"
   ]
  },
  {
   "cell_type": "code",
   "execution_count": 10,
   "metadata": {
    "collapsed": true
   },
   "outputs": [],
   "source": [
    "X_train = np.array(X_train)\n",
    "y_train = np.array(y_train)\n",
    "X_valid = np.array(X_valid)\n",
    "y_valid = np.array(y_valid)"
   ]
  },
  {
   "cell_type": "code",
   "execution_count": 28,
   "metadata": {
    "collapsed": true
   },
   "outputs": [],
   "source": [
    "from keras.models import Sequential\n",
    "from keras.layers import Dense, Activation, Dropout\n",
    "from keras.callbacks import EarlyStopping, ModelCheckpoint\n",
    "from keras import optimizers\n",
    "import tensorflow as tf\n",
    "from sklearn.preprocessing import StandardScaler\n",
    "\n",
    "checkpoint = ModelCheckpoint(filepath = \"weights.hdf5\", verbose=1, save_best_only=True)\n",
    "\n",
    "def get_model(inp,activation = \"relu\"):\n",
    "    \n",
    "    model = Sequential()\n",
    "    model.add(Dense(64, activation=activation, input_dim = inp))\n",
    "    model.add(Dropout(.5))\n",
    "    model.add(Dense(64, activation=activation))\n",
    "    model.add(Dropout(.5))\n",
    "    model.add(Dense(32, activation=activation))\n",
    "    model.add(Dense(1, activation = \"sigmoid\"))\n",
    "\n",
    "    model.compile(loss=\"binary_crossentropy\", optimizer= \"adam\", metrics=[\"accuracy\"]) #mse #metrics=[tf.keras.metrics.AUC()]\n",
    "    return model"
   ]
  },
  {
   "cell_type": "code",
   "execution_count": 29,
   "metadata": {
    "collapsed": true
   },
   "outputs": [],
   "source": [
    "model = get_model(23)"
   ]
  },
  {
   "cell_type": "code",
   "execution_count": 30,
   "metadata": {},
   "outputs": [
    {
     "name": "stdout",
     "output_type": "stream",
     "text": [
      "Train on 24000 samples, validate on 6000 samples\n",
      "Epoch 1/60\n",
      "22976/24000 [===========================>..] - ETA: 0s - loss: 0.5186 - acc: 0.7867- ETA: 0s - loss: 0.5221 - acc: 0.785Epoch 00000: val_loss improved from inf to 0.47223, saving model to weights.hdf5\n",
      "24000/24000 [==============================] - 1s - loss: 0.5183 - acc: 0.7870 - val_loss: 0.4722 - val_acc: 0.8132\n",
      "Epoch 2/60\n",
      "23936/24000 [============================>.] - ETA: 0s - loss: 0.4732 - acc: 0.8039- ETA: 0s - loss: 0.4774 - acc: Epoch 00001: val_loss improved from 0.47223 to 0.45374, saving model to weights.hdf5\n",
      "24000/24000 [==============================] - 1s - loss: 0.4732 - acc: 0.8040 - val_loss: 0.4537 - val_acc: 0.8077\n",
      "Epoch 3/60\n",
      "21696/24000 [==========================>...] - ETA: 0s - loss: 0.4606 - acc: 0.8072- ETA: 0s - loss: 0.4592 - acc: 0.80Epoch 00002: val_loss improved from 0.45374 to 0.44783, saving model to weights.hdf5\n",
      "24000/24000 [==============================] - 1s - loss: 0.4594 - acc: 0.8079 - val_loss: 0.4478 - val_acc: 0.8143\n",
      "Epoch 4/60\n",
      "23872/24000 [============================>.] - ETA: 0s - loss: 0.4535 - acc: 0.8111- ETA: 0s - loss: 0.4628 - accEpoch 00003: val_loss did not improve\n",
      "24000/24000 [==============================] - 1s - loss: 0.4534 - acc: 0.8109 - val_loss: 0.4515 - val_acc: 0.7998\n",
      "Epoch 5/60\n",
      "22272/24000 [==========================>...] - ETA: 0s - loss: 0.4509 - acc: 0.8129Epoch 00004: val_loss improved from 0.44783 to 0.44754, saving model to weights.hdf5\n",
      "24000/24000 [==============================] - 1s - loss: 0.4512 - acc: 0.8125 - val_loss: 0.4475 - val_acc: 0.8068\n",
      "Epoch 6/60\n",
      "21696/24000 [==========================>...] - ETA: 0s - loss: 0.4502 - acc: 0.8119Epoch 00005: val_loss improved from 0.44754 to 0.44559, saving model to weights.hdf5\n",
      "24000/24000 [==============================] - 1s - loss: 0.4491 - acc: 0.8118 - val_loss: 0.4456 - val_acc: 0.8167\n",
      "Epoch 7/60\n",
      "23872/24000 [============================>.] - ETA: 0s - loss: 0.4466 - acc: 0.8135Epoch 00006: val_loss improved from 0.44559 to 0.44324, saving model to weights.hdf5\n",
      "24000/24000 [==============================] - 1s - loss: 0.4461 - acc: 0.8138 - val_loss: 0.4432 - val_acc: 0.8178\n",
      "Epoch 8/60\n",
      "21696/24000 [==========================>...] - ETA: 0s - loss: 0.4443 - acc: 0.8171Epoch 00007: val_loss improved from 0.44324 to 0.44254, saving model to weights.hdf5\n",
      "24000/24000 [==============================] - 1s - loss: 0.4452 - acc: 0.8170 - val_loss: 0.4425 - val_acc: 0.8162\n",
      "Epoch 9/60\n",
      "21824/24000 [==========================>...] - ETA: 0s - loss: 0.4432 - acc: 0.8144Epoch 00008: val_loss improved from 0.44254 to 0.44229, saving model to weights.hdf5\n",
      "24000/24000 [==============================] - 1s - loss: 0.4447 - acc: 0.8135 - val_loss: 0.4423 - val_acc: 0.8162\n",
      "Epoch 10/60\n",
      "21632/24000 [==========================>...] - ETA: 0s - loss: 0.4407 - acc: 0.8168Epoch 00009: val_loss did not improve\n",
      "24000/24000 [==============================] - 1s - loss: 0.4421 - acc: 0.8158 - val_loss: 0.4433 - val_acc: 0.8163\n",
      "Epoch 11/60\n",
      "22336/24000 [==========================>...] - ETA: 0s - loss: 0.4427 - acc: 0.8143Epoch 00010: val_loss improved from 0.44229 to 0.44110, saving model to weights.hdf5\n",
      "24000/24000 [==============================] - 1s - loss: 0.4424 - acc: 0.8152 - val_loss: 0.4411 - val_acc: 0.8173\n",
      "Epoch 12/60\n",
      "21632/24000 [==========================>...] - ETA: 0s - loss: 0.4391 - acc: 0.8168Epoch 00011: val_loss improved from 0.44110 to 0.43865, saving model to weights.hdf5\n",
      "24000/24000 [==============================] - 1s - loss: 0.4384 - acc: 0.8163 - val_loss: 0.4387 - val_acc: 0.8170\n",
      "Epoch 13/60\n",
      "23872/24000 [============================>.] - ETA: 0s - loss: 0.4405 - acc: 0.8150Epoch 00012: val_loss improved from 0.43865 to 0.43861, saving model to weights.hdf5\n",
      "24000/24000 [==============================] - 1s - loss: 0.4399 - acc: 0.8154 - val_loss: 0.4386 - val_acc: 0.8160\n",
      "Epoch 14/60\n",
      "23936/24000 [============================>.] - ETA: 0s - loss: 0.4407 - acc: 0.8148- ETA: 0s - loss: 0.4378 - acc: Epoch 00013: val_loss did not improve\n",
      "24000/24000 [==============================] - 1s - loss: 0.4409 - acc: 0.8147 - val_loss: 0.4392 - val_acc: 0.8160\n",
      "Epoch 15/60\n",
      "22208/24000 [==========================>...] - ETA: 0s - loss: 0.4386 - acc: 0.8174- ETA: 0s - loss: 0.4414 - acc: 0.Epoch 00014: val_loss improved from 0.43861 to 0.43659, saving model to weights.hdf5\n",
      "24000/24000 [==============================] - 1s - loss: 0.4385 - acc: 0.8175 - val_loss: 0.4366 - val_acc: 0.8168\n",
      "Epoch 16/60\n",
      "23808/24000 [============================>.] - ETA: 0s - loss: 0.4366 - acc: 0.8170- ETA: 0s - loss: 0.4342 - acc: 0.81Epoch 00015: val_loss did not improve\n",
      "24000/24000 [==============================] - 1s - loss: 0.4371 - acc: 0.8168 - val_loss: 0.4387 - val_acc: 0.8178\n",
      "Epoch 17/60\n",
      "22272/24000 [==========================>...] - ETA: 0s - loss: 0.4366 - acc: 0.8170Epoch 00016: val_loss did not improve\n",
      "24000/24000 [==============================] - 1s - loss: 0.4360 - acc: 0.8176 - val_loss: 0.4368 - val_acc: 0.8160\n",
      "Epoch 18/60\n",
      "23040/24000 [===========================>..] - ETA: 0s - loss: 0.4368 - acc: 0.8186- ETA: 0s - loss: 0.4369 - aEpoch 00017: val_loss did not improve\n",
      "24000/24000 [==============================] - 1s - loss: 0.4367 - acc: 0.8190 - val_loss: 0.4373 - val_acc: 0.8158\n",
      "Epoch 19/60\n",
      "23744/24000 [============================>.] - ETA: 0s - loss: 0.4357 - acc: 0.8182Epoch 00018: val_loss did not improve\n",
      "24000/24000 [==============================] - 1s - loss: 0.4355 - acc: 0.8185 - val_loss: 0.4369 - val_acc: 0.8173\n",
      "Epoch 20/60\n",
      "22080/24000 [==========================>...] - ETA: 0s - loss: 0.4374 - acc: 0.8185- ETA: 0s - loss: 0.4386 - acc: 0.Epoch 00019: val_loss improved from 0.43659 to 0.43593, saving model to weights.hdf5\n",
      "24000/24000 [==============================] - 1s - loss: 0.4367 - acc: 0.8191 - val_loss: 0.4359 - val_acc: 0.8162\n",
      "Epoch 21/60\n",
      "21824/24000 [==========================>...] - ETA: 0s - loss: 0.4349 - acc: 0.8175- ETA: 0s - loss: 0.4329 - acc: 0Epoch 00020: val_loss improved from 0.43593 to 0.43454, saving model to weights.hdf5\n",
      "24000/24000 [==============================] - 1s - loss: 0.4353 - acc: 0.8173 - val_loss: 0.4345 - val_acc: 0.8170\n",
      "Epoch 22/60\n",
      "23936/24000 [============================>.] - ETA: 0s - loss: 0.4358 - acc: 0.8181Epoch 00021: val_loss did not improve\n",
      "24000/24000 [==============================] - 1s - loss: 0.4355 - acc: 0.8183 - val_loss: 0.4352 - val_acc: 0.8160\n",
      "Epoch 23/60\n",
      "22400/24000 [===========================>..] - ETA: 0s - loss: 0.4347 - acc: 0.8179Epoch 00022: val_loss did not improve\n",
      "24000/24000 [==============================] - 1s - loss: 0.4347 - acc: 0.8180 - val_loss: 0.4352 - val_acc: 0.8157\n",
      "Epoch 24/60\n",
      "23424/24000 [============================>.] - ETA: 0s - loss: 0.4329 - acc: 0.8201Epoch 00023: val_loss did not improve\n",
      "24000/24000 [==============================] - 1s - loss: 0.4335 - acc: 0.8199 - val_loss: 0.4356 - val_acc: 0.8160\n",
      "Epoch 25/60\n",
      "23808/24000 [============================>.] - ETA: 0s - loss: 0.4336 - acc: 0.8186Epoch 00024: val_loss did not improve\n",
      "24000/24000 [==============================] - 1s - loss: 0.4340 - acc: 0.8182 - val_loss: 0.4361 - val_acc: 0.8165\n",
      "Epoch 26/60\n",
      "22144/24000 [==========================>...] - ETA: 0s - loss: 0.4343 - acc: 0.8204Epoch 00025: val_loss did not improve\n",
      "24000/24000 [==============================] - 1s - loss: 0.4331 - acc: 0.8206 - val_loss: 0.4359 - val_acc: 0.8153\n",
      "Epoch 27/60\n",
      "22912/24000 [===========================>..] - ETA: 0s - loss: 0.4319 - acc: 0.8206- ETA: 0s - loss: 0.4296 - accEpoch 00026: val_loss did not improve\n",
      "24000/24000 [==============================] - 1s - loss: 0.4324 - acc: 0.8203 - val_loss: 0.4361 - val_acc: 0.8150\n",
      "Epoch 28/60\n",
      "23744/24000 [============================>.] - ETA: 0s - loss: 0.4332 - acc: 0.8204Epoch 00027: val_loss did not improve\n",
      "24000/24000 [==============================] - 1s - loss: 0.4331 - acc: 0.8204 - val_loss: 0.4353 - val_acc: 0.8148\n",
      "Epoch 29/60\n",
      "22080/24000 [==========================>...] - ETA: 0s - loss: 0.4340 - acc: 0.8191Epoch 00028: val_loss did not improve\n",
      "24000/24000 [==============================] - 1s - loss: 0.4335 - acc: 0.8193 - val_loss: 0.4349 - val_acc: 0.8165\n",
      "Epoch 30/60\n",
      "22912/24000 [===========================>..] - ETA: 0s - loss: 0.4334 - acc: 0.8196Epoch 00029: val_loss did not improve\n",
      "24000/24000 [==============================] - 1s - loss: 0.4335 - acc: 0.8196 - val_loss: 0.4354 - val_acc: 0.8143\n",
      "Epoch 31/60\n",
      "23680/24000 [============================>.] - ETA: 0s - loss: 0.4328 - acc: 0.8179Epoch 00030: val_loss did not improve\n",
      "24000/24000 [==============================] - 1s - loss: 0.4324 - acc: 0.8181 - val_loss: 0.4347 - val_acc: 0.8153\n",
      "Epoch 32/60\n",
      "21952/24000 [==========================>...] - ETA: 0s - loss: 0.4339 - acc: 0.8198Epoch 00031: val_loss did not improve\n",
      "24000/24000 [==============================] - 1s - loss: 0.4327 - acc: 0.8202 - val_loss: 0.4354 - val_acc: 0.8178\n",
      "Epoch 33/60\n",
      "22720/24000 [===========================>..] - ETA: 0s - loss: 0.4319 - acc: 0.8209Epoch 00032: val_loss did not improve\n",
      "24000/24000 [==============================] - 1s - loss: 0.4316 - acc: 0.8203 - val_loss: 0.4352 - val_acc: 0.8157\n",
      "Epoch 34/60\n",
      "23552/24000 [============================>.] - ETA: 0s - loss: 0.4310 - acc: 0.8190Epoch 00033: val_loss did not improve\n",
      "24000/24000 [==============================] - 1s - loss: 0.4307 - acc: 0.8193 - val_loss: 0.4353 - val_acc: 0.8167\n",
      "Epoch 35/60\n",
      "21824/24000 [==========================>...] - ETA: 0s - loss: 0.4297 - acc: 0.8214Epoch 00034: val_loss did not improve\n",
      "24000/24000 [==============================] - 1s - loss: 0.4308 - acc: 0.8201 - val_loss: 0.4349 - val_acc: 0.8152\n",
      "Epoch 36/60\n",
      "22656/24000 [===========================>..] - ETA: 0s - loss: 0.4335 - acc: 0.8198Epoch 00035: val_loss improved from 0.43454 to 0.43400, saving model to weights.hdf5\n",
      "24000/24000 [==============================] - 1s - loss: 0.4316 - acc: 0.8211 - val_loss: 0.4340 - val_acc: 0.8167\n",
      "Epoch 37/60\n",
      "21952/24000 [==========================>...] - ETA: 0s - loss: 0.4324 - acc: 0.8197Epoch 00036: val_loss did not improve\n",
      "24000/24000 [==============================] - 1s - loss: 0.4318 - acc: 0.8198 - val_loss: 0.4344 - val_acc: 0.8167\n",
      "Epoch 38/60\n",
      "22784/24000 [===========================>..] - ETA: 0s - loss: 0.4288 - acc: 0.8213Epoch 00037: val_loss improved from 0.43400 to 0.43354, saving model to weights.hdf5\n",
      "24000/24000 [==============================] - 1s - loss: 0.4298 - acc: 0.8205 - val_loss: 0.4335 - val_acc: 0.8167\n",
      "Epoch 39/60\n",
      "22528/24000 [===========================>..] - ETA: 0s - loss: 0.4299 - acc: 0.8212- ETA: 0s - loss: 0.4329 - acc: 0.Epoch 00038: val_loss did not improve\n",
      "24000/24000 [==============================] - 1s - loss: 0.4301 - acc: 0.8212 - val_loss: 0.4340 - val_acc: 0.8152\n",
      "Epoch 40/60\n",
      "23296/24000 [============================>.] - ETA: 0s - loss: 0.4293 - acc: 0.8216Epoch 00039: val_loss did not improve\n",
      "24000/24000 [==============================] - 1s - loss: 0.4307 - acc: 0.8210 - val_loss: 0.4354 - val_acc: 0.8165\n",
      "Epoch 41/60\n",
      "23808/24000 [============================>.] - ETA: 0s - loss: 0.4285 - acc: 0.8224Epoch 00040: val_loss did not improve\n",
      "24000/24000 [==============================] - 1s - loss: 0.4293 - acc: 0.8220 - val_loss: 0.4351 - val_acc: 0.8172\n",
      "Epoch 42/60\n",
      "22208/24000 [==========================>...] - ETA: 0s - loss: 0.4255 - acc: 0.823 - ETA: 0s - loss: 0.4290 - acc: 0.8217Epoch 00041: val_loss did not improve\n",
      "24000/24000 [==============================] - 1s - loss: 0.4293 - acc: 0.8211 - val_loss: 0.4352 - val_acc: 0.8158\n",
      "Epoch 43/60\n",
      "22976/24000 [===========================>..] - ETA: 0s - loss: 0.4306 - acc: 0.8209- ETA: 1s - loss: 0.4121 - acc - ETA: 0s - loss: 0.4280 - acc: 0.82Epoch 00042: val_loss did not improve\n",
      "24000/24000 [==============================] - 1s - loss: 0.4299 - acc: 0.8217 - val_loss: 0.4358 - val_acc: 0.8170\n",
      "Epoch 44/60\n",
      "23872/24000 [============================>.] - ETA: 0s - loss: 0.4301 - acc: 0.8213Epoch 00043: val_loss did not improve\n",
      "24000/24000 [==============================] - 1s - loss: 0.4302 - acc: 0.8212 - val_loss: 0.4343 - val_acc: 0.8168\n",
      "Epoch 45/60\n",
      "22272/24000 [==========================>...] - ETA: 0s - loss: 0.4276 - acc: 0.8217- ETA: 0s - loss: 0.4104 - acc:  - ETA: 0s - loss: 0.4197 - acc: Epoch 00044: val_loss did not improve\n",
      "24000/24000 [==============================] - 1s - loss: 0.4302 - acc: 0.8202 - val_loss: 0.4356 - val_acc: 0.8160\n",
      "Epoch 46/60\n",
      "23168/24000 [===========================>..] - ETA: 0s - loss: 0.4301 - acc: 0.8232- ETA: 0s - loss: 0.4292 - acc:Epoch 00045: val_loss did not improve\n",
      "24000/24000 [==============================] - 1s - loss: 0.4309 - acc: 0.8222 - val_loss: 0.4346 - val_acc: 0.8173\n",
      "Epoch 47/60\n",
      "23616/24000 [============================>.] - ETA: 0s - loss: 0.4276 - acc: 0.8228Epoch 00046: val_loss did not improve\n",
      "24000/24000 [==============================] - 1s - loss: 0.4283 - acc: 0.8223 - val_loss: 0.4341 - val_acc: 0.8163\n",
      "Epoch 48/60\n",
      "22016/24000 [==========================>...] - ETA: 0s - loss: 0.4300 - acc: 0.8213- ETA: 0s - loss: 0.4296 - acc: 0.82 - ETA: 0s - loss: 0.4293 - acc: 0.821Epoch 00047: val_loss did not improve\n",
      "24000/24000 [==============================] - 1s - loss: 0.4286 - acc: 0.8227 - val_loss: 0.4342 - val_acc: 0.8167\n",
      "Epoch 49/60\n",
      "22720/24000 [===========================>..] - ETA: 0s - loss: 0.4299 - acc: 0.8199- ETA: 0s - loss: 0.4394 - acc: 0.813 - ETA: 0s - loss: 0.4371 - accEpoch 00048: val_loss did not improve\n",
      "24000/24000 [==============================] - 1s - loss: 0.4297 - acc: 0.8202 - val_loss: 0.4344 - val_acc: 0.8172\n",
      "Epoch 50/60\n",
      "23680/24000 [============================>.] - ETA: 0s - loss: 0.4283 - acc: 0.8221- ETA: 0s - loss: 0.4278 - acc: 0.Epoch 00049: val_loss did not improve\n",
      "24000/24000 [==============================] - 1s - loss: 0.4279 - acc: 0.8222 - val_loss: 0.4348 - val_acc: 0.8175\n",
      "Epoch 51/60\n",
      "22080/24000 [==========================>...] - ETA: 0s - loss: 0.4312 - acc: 0.8199Epoch 00050: val_loss did not improve\n",
      "24000/24000 [==============================] - 1s - loss: 0.4295 - acc: 0.8206 - val_loss: 0.4348 - val_acc: 0.8163\n",
      "Epoch 52/60\n",
      "22976/24000 [===========================>..] - ETA: 0s - loss: 0.4267 - acc: 0.8226- ETA: 0s - loss: 0.4245 - acc: 0.82Epoch 00051: val_loss did not improve\n",
      "24000/24000 [==============================] - 1s - loss: 0.4275 - acc: 0.8219 - val_loss: 0.4349 - val_acc: 0.8172\n",
      "Epoch 53/60\n",
      "23616/24000 [============================>.] - ETA: 0s - loss: 0.4284 - acc: 0.8231Epoch 00052: val_loss did not improve\n",
      "24000/24000 [==============================] - 1s - loss: 0.4287 - acc: 0.8227 - val_loss: 0.4357 - val_acc: 0.8175\n",
      "Epoch 54/60\n",
      "22016/24000 [==========================>...] - ETA: 0s - loss: 0.4287 - acc: 0.8218- ETA: 1s - loss: 0.4475 - acc: 0.8 - ETA: 0s - loss: 0.4342 - acc: Epoch 00053: val_loss did not improve\n",
      "24000/24000 [==============================] - 1s - loss: 0.4280 - acc: 0.8226 - val_loss: 0.4352 - val_acc: 0.8165\n",
      "Epoch 55/60\n",
      "22592/24000 [===========================>..] - ETA: 0s - loss: 0.4283 - acc: 0.8226Epoch 00054: val_loss did not improve\n",
      "24000/24000 [==============================] - 1s - loss: 0.4285 - acc: 0.8222 - val_loss: 0.4345 - val_acc: 0.8167\n",
      "Epoch 56/60\n",
      "23616/24000 [============================>.] - ETA: 0s - loss: 0.4284 - acc: 0.821 - ETA: 0s - loss: 0.4281 - acc: 0.8218Epoch 00055: val_loss did not improve\n",
      "24000/24000 [==============================] - 1s - loss: 0.4286 - acc: 0.8214 - val_loss: 0.4349 - val_acc: 0.8172\n",
      "Epoch 57/60\n",
      "22080/24000 [==========================>...] - ETA: 0s - loss: 0.4292 - acc: 0.821 - ETA: 0s - loss: 0.4289 - acc: 0.8216Epoch 00056: val_loss improved from 0.43354 to 0.43335, saving model to weights.hdf5\n",
      "24000/24000 [==============================] - 1s - loss: 0.4288 - acc: 0.8215 - val_loss: 0.4333 - val_acc: 0.8180\n",
      "Epoch 58/60\n",
      "21696/24000 [==========================>...] - ETA: 0s - loss: 0.4274 - acc: 0.823 - ETA: 0s - loss: 0.4293 - acc: 0.8222Epoch 00057: val_loss did not improve\n",
      "24000/24000 [==============================] - 1s - loss: 0.4280 - acc: 0.8225 - val_loss: 0.4336 - val_acc: 0.8163\n",
      "Epoch 59/60\n"
     ]
    },
    {
     "name": "stdout",
     "output_type": "stream",
     "text": [
      "22592/24000 [===========================>..] - ETA: 0s - loss: 0.4282 - acc: 0.8214Epoch 00058: val_loss did not improve\n",
      "24000/24000 [==============================] - 1s - loss: 0.4278 - acc: 0.8216 - val_loss: 0.4344 - val_acc: 0.8167\n",
      "Epoch 60/60\n",
      "23424/24000 [============================>.] - ETA: 0s - loss: 0.4279 - acc: 0.8211- ETA: 0s - loss: 0.4259 - accEpoch 00059: val_loss did not improve\n",
      "24000/24000 [==============================] - 1s - loss: 0.4284 - acc: 0.8211 - val_loss: 0.4340 - val_acc: 0.8173\n"
     ]
    }
   ],
   "source": [
    " history = model.fit(X_train, y_train, batch_size = 64, epochs = 60, validation_data=[X_valid, y_valid], callbacks = [checkpoint])"
   ]
  },
  {
   "cell_type": "code",
   "execution_count": null,
   "metadata": {
    "collapsed": true
   },
   "outputs": [],
   "source": []
  },
  {
   "cell_type": "code",
   "execution_count": 19,
   "metadata": {},
   "outputs": [
    {
     "data": {
      "image/png": "[encoded data removed]",
      "text/plain": [
       "<matplotlib.figure.Figure at 0x7f16a60e9780>"
      ]
     },
     "metadata": {},
     "output_type": "display_data"
    },
    {
     "data": {
      "image/png": "[encoded data removed]",
      "text/plain": [
       "<matplotlib.figure.Figure at 0x7f16a614e160>"
      ]
     },
     "metadata": {},
     "output_type": "display_data"
    }
   ],
   "source": [
    "import matplotlib.pyplot as plt\n",
    "\n",
    "# Plot training & validation accuracy values\n",
    "plt.plot(history.history['acc'])\n",
    "plt.plot(history.history['val_acc'])\n",
    "plt.title('Model Accuracy')\n",
    "plt.ylabel('ACC')\n",
    "plt.xlabel('Epoch')\n",
    "plt.legend(['Train', 'Validation'], loc='best')\n",
    "plt.show()\n",
    "\n",
    "# Plot training & validation loss values\n",
    "plt.plot(history.history['loss'])\n",
    "plt.plot(history.history['val_loss'])\n",
    "plt.title('Model loss')\n",
    "plt.ylabel('Loss')\n",
    "plt.xlabel('Epoch')\n",
    "plt.legend(['Train', 'Validation'], loc='best')\n",
    "plt.show()"
   ]
  },
  {
   "cell_type": "markdown",
   "metadata": {},
   "source": []
  },
  {
   "cell_type": "code",
   "execution_count": 21,
   "metadata": {},
   "outputs": [
    {
     "name": "stdout",
     "output_type": "stream",
     "text": [
      "2720/6000 [============>.................] - ETA: 0s"
     ]
    }
   ],
   "source": [
    "from sklearn.metrics import confusion_matrix, accuracy_score, roc_auc_score, precision_score, f1_score \n",
    "y_pred = model.predict(X_valid)\n",
    "probabilities = pd.DataFrame(model.predict_proba(X_valid))\n",
    "auc           = roc_auc_score(np.array(y_valid),np.array(probabilities))"
   ]
  },
  {
   "cell_type": "code",
   "execution_count": 22,
   "metadata": {},
   "outputs": [
    {
     "data": {
      "text/plain": [
       "0.77140158530679626"
      ]
     },
     "execution_count": 22,
     "metadata": {},
     "output_type": "execute_result"
    }
   ],
   "source": [
    "auc"
   ]
  },
  {
   "cell_type": "code",
   "execution_count": null,
   "metadata": {},
   "outputs": [],
   "source": []
  },
  {
   "cell_type": "markdown",
   "metadata": {},
   "source": [
    "###  Model with single layer"
   ]
  },
  {
   "cell_type": "code",
   "execution_count": null,
   "metadata": {},
   "outputs": [],
   "source": [
    "def get_model(inp,activation = \"relu\"):\n",
    "    \n",
    "    model = Sequential()\n",
    "    model.add(Dense(30, activation=activation, input_dim = inp))\n",
    "    model.add(Dense(1, activation = \"sigmoid\"))\n",
    "\n",
    "    model.compile(loss=\"binary_crossentropy\", optimizer= \"adam\", metrics=[\"accuracy\"]) #mse #metrics=[tf.keras.metrics.AUC()]\n",
    "    return model"
   ]
  },
  {
   "cell_type": "code",
   "execution_count": 23,
   "metadata": {},
   "outputs": [],
   "source": [
    "model = get_model(23)"
   ]
  },
  {
   "cell_type": "code",
   "execution_count": 24,
   "metadata": {},
   "outputs": [
    {
     "name": "stdout",
     "output_type": "stream",
     "text": [
      "Train on 24000 samples, validate on 6000 samples\n",
      "Epoch 1/40\n",
      "23872/24000 [============================>.] - ETA: 0s - loss: 0.5186 - acc: 0.7856Epoch 00000: val_loss did not improve\n",
      "24000/24000 [==============================] - 1s - loss: 0.5181 - acc: 0.7859 - val_loss: 0.4619 - val_acc: 0.8097\n",
      "Epoch 2/40\n",
      "22976/24000 [===========================>..] - ETA: 0s - loss: 0.4734 - acc: 0.8048Epoch 00001: val_loss did not improve\n",
      "24000/24000 [==============================] - 1s - loss: 0.4732 - acc: 0.8044 - val_loss: 0.4515 - val_acc: 0.8143\n",
      "Epoch 3/40\n",
      "23872/24000 [============================>.] - ETA: 0s - loss: 0.4611 - acc: 0.8077Epoch 00002: val_loss did not improve\n",
      "24000/24000 [==============================] - 1s - loss: 0.4606 - acc: 0.8078 - val_loss: 0.4485 - val_acc: 0.8133\n",
      "Epoch 4/40\n",
      "22272/24000 [==========================>...] - ETA: 0s - loss: 0.4517 - acc: 0.8122Epoch 00003: val_loss did not improve\n",
      "24000/24000 [==============================] - 1s - loss: 0.4525 - acc: 0.8116 - val_loss: 0.4467 - val_acc: 0.8152\n",
      "Epoch 5/40\n",
      "22912/24000 [===========================>..] - ETA: 0s - loss: 0.4506 - acc: 0.8122- ETA: 0s - loss: 0.4503 - acc: 0.812Epoch 00004: val_loss did not improve\n",
      "24000/24000 [==============================] - 1s - loss: 0.4502 - acc: 0.8117 - val_loss: 0.4447 - val_acc: 0.8177\n",
      "Epoch 6/40\n",
      "23680/24000 [============================>.] - ETA: 0s - loss: 0.4489 - acc: 0.8136- ETA: 0s - loss: 0.4453 -Epoch 00005: val_loss did not improve\n",
      "24000/24000 [==============================] - 1s - loss: 0.4489 - acc: 0.8132 - val_loss: 0.4457 - val_acc: 0.8143\n",
      "Epoch 7/40\n",
      "22848/24000 [===========================>..] - ETA: 0s - loss: 0.4467 - acc: 0.8125- ETA: 0s - loss: 0.4450 - acEpoch 00006: val_loss did not improve\n",
      "24000/24000 [==============================] - 1s - loss: 0.4460 - acc: 0.8133 - val_loss: 0.4442 - val_acc: 0.8167\n",
      "Epoch 8/40\n",
      "22720/24000 [===========================>..] - ETA: 0s - loss: 0.4451 - acc: 0.8151Epoch 00007: val_loss did not improve\n",
      "24000/24000 [==============================] - 1s - loss: 0.4446 - acc: 0.8154 - val_loss: 0.4475 - val_acc: 0.8090\n",
      "Epoch 9/40\n",
      "22016/24000 [==========================>...] - ETA: 0s - loss: 0.4443 - acc: 0.8155Epoch 00008: val_loss did not improve\n",
      "24000/24000 [==============================] - 1s - loss: 0.4450 - acc: 0.8152 - val_loss: 0.4426 - val_acc: 0.8177\n",
      "Epoch 10/40\n",
      "21696/24000 [==========================>...] - ETA: 0s - loss: 0.4408 - acc: 0.8148Epoch 00009: val_loss did not improve\n",
      "24000/24000 [==============================] - 1s - loss: 0.4416 - acc: 0.8147 - val_loss: 0.4437 - val_acc: 0.8127\n",
      "Epoch 11/40\n",
      "22912/24000 [===========================>..] - ETA: 0s - loss: 0.4424 - acc: 0.8144Epoch 00010: val_loss did not improve\n",
      "24000/24000 [==============================] - 0s - loss: 0.4423 - acc: 0.8147 - val_loss: 0.4425 - val_acc: 0.8167\n",
      "Epoch 12/40\n",
      "23680/24000 [============================>.] - ETA: 0s - loss: 0.4406 - acc: 0.8173Epoch 00011: val_loss did not improve\n",
      "24000/24000 [==============================] - 0s - loss: 0.4402 - acc: 0.8174 - val_loss: 0.4410 - val_acc: 0.8175\n",
      "Epoch 13/40\n",
      "22976/24000 [===========================>..] - ETA: 0s - loss: 0.4404 - acc: 0.8159Epoch 00012: val_loss did not improve\n",
      "24000/24000 [==============================] - 0s - loss: 0.4401 - acc: 0.8160 - val_loss: 0.4393 - val_acc: 0.8173\n",
      "Epoch 14/40\n",
      "22784/24000 [===========================>..] - ETA: 0s - loss: 0.4412 - acc: 0.8165Epoch 00013: val_loss did not improve\n",
      "24000/24000 [==============================] - 0s - loss: 0.4403 - acc: 0.8165 - val_loss: 0.4391 - val_acc: 0.8178\n",
      "Epoch 15/40\n",
      "23232/24000 [============================>.] - ETA: 0s - loss: 0.4378 - acc: 0.8181Epoch 00014: val_loss did not improve\n",
      "24000/24000 [==============================] - 0s - loss: 0.4378 - acc: 0.8180 - val_loss: 0.4402 - val_acc: 0.8173\n",
      "Epoch 16/40\n",
      "23040/24000 [===========================>..] - ETA: 0s - loss: 0.4383 - acc: 0.8185Epoch 00015: val_loss did not improve\n",
      "24000/24000 [==============================] - 0s - loss: 0.4382 - acc: 0.8186 - val_loss: 0.4389 - val_acc: 0.8168\n",
      "Epoch 17/40\n",
      "23168/24000 [===========================>..] - ETA: 0s - loss: 0.4382 - acc: 0.8185Epoch 00016: val_loss did not improve\n",
      "24000/24000 [==============================] - 0s - loss: 0.4364 - acc: 0.8196 - val_loss: 0.4385 - val_acc: 0.8163\n",
      "Epoch 18/40\n",
      "22016/24000 [==========================>...] - ETA: 0s - loss: 0.4372 - acc: 0.819 - ETA: 0s - loss: 0.4372 - acc: 0.8193Epoch 00017: val_loss did not improve\n",
      "24000/24000 [==============================] - 0s - loss: 0.4368 - acc: 0.8193 - val_loss: 0.4385 - val_acc: 0.8173\n",
      "Epoch 19/40\n",
      "23552/24000 [============================>.] - ETA: 0s - loss: 0.4366 - acc: 0.8187Epoch 00018: val_loss did not improve\n",
      "24000/24000 [==============================] - 1s - loss: 0.4374 - acc: 0.8185 - val_loss: 0.4379 - val_acc: 0.8153\n",
      "Epoch 20/40\n",
      "23168/24000 [===========================>..] - ETA: 0s - loss: 0.4354 - acc: 0.8190Epoch 00019: val_loss did not improve\n",
      "24000/24000 [==============================] - 1s - loss: 0.4357 - acc: 0.8188 - val_loss: 0.4366 - val_acc: 0.8155\n",
      "Epoch 21/40\n",
      "22400/24000 [===========================>..] - ETA: 0s - loss: 0.4354 - acc: 0.8189Epoch 00020: val_loss did not improve\n",
      "24000/24000 [==============================] - 1s - loss: 0.4351 - acc: 0.8191 - val_loss: 0.4363 - val_acc: 0.8143\n",
      "Epoch 22/40\n",
      "23552/24000 [============================>.] - ETA: 0s - loss: 0.4336 - acc: 0.8196Epoch 00021: val_loss did not improve\n",
      "24000/24000 [==============================] - 1s - loss: 0.4343 - acc: 0.8192 - val_loss: 0.4361 - val_acc: 0.8150\n",
      "Epoch 23/40\n",
      "23232/24000 [============================>.] - ETA: 0s - loss: 0.4332 - acc: 0.8203Epoch 00022: val_loss did not improve\n",
      "24000/24000 [==============================] - 1s - loss: 0.4327 - acc: 0.8206 - val_loss: 0.4353 - val_acc: 0.8152\n",
      "Epoch 24/40\n",
      "21824/24000 [==========================>...] - ETA: 0s - loss: 0.4338 - acc: 0.8205Epoch 00023: val_loss did not improve\n",
      "24000/24000 [==============================] - 1s - loss: 0.4348 - acc: 0.8203 - val_loss: 0.4375 - val_acc: 0.8163\n",
      "Epoch 25/40\n",
      "22528/24000 [===========================>..] - ETA: 0s - loss: 0.4354 - acc: 0.8191Epoch 00024: val_loss did not improve\n",
      "24000/24000 [==============================] - 1s - loss: 0.4344 - acc: 0.8196 - val_loss: 0.4370 - val_acc: 0.8160\n",
      "Epoch 26/40\n",
      "23424/24000 [============================>.] - ETA: 0s - loss: 0.4329 - acc: 0.8194Epoch 00025: val_loss did not improve\n",
      "24000/24000 [==============================] - 1s - loss: 0.4325 - acc: 0.8196 - val_loss: 0.4376 - val_acc: 0.8170\n",
      "Epoch 27/40\n",
      "22016/24000 [==========================>...] - ETA: 0s - loss: 0.4349 - acc: 0.8182Epoch 00026: val_loss did not improve\n",
      "24000/24000 [==============================] - 1s - loss: 0.4331 - acc: 0.8196 - val_loss: 0.4355 - val_acc: 0.8165\n",
      "Epoch 28/40\n",
      "23232/24000 [============================>.] - ETA: 0s - loss: 0.4329 - acc: 0.8193Epoch 00027: val_loss did not improve\n",
      "24000/24000 [==============================] - 1s - loss: 0.4332 - acc: 0.8185 - val_loss: 0.4360 - val_acc: 0.8153\n",
      "Epoch 29/40\n",
      "23168/24000 [===========================>..] - ETA: 0s - loss: 0.4314 - acc: 0.8189Epoch 00028: val_loss did not improve\n",
      "24000/24000 [==============================] - 1s - loss: 0.4311 - acc: 0.8191 - val_loss: 0.4360 - val_acc: 0.8162\n",
      "Epoch 30/40\n",
      "21888/24000 [==========================>...] - ETA: 0s - loss: 0.4324 - acc: 0.8200Epoch 00029: val_loss did not improve\n",
      "24000/24000 [==============================] - 1s - loss: 0.4324 - acc: 0.8201 - val_loss: 0.4359 - val_acc: 0.8160\n",
      "Epoch 31/40\n",
      "23360/24000 [============================>.] - ETA: 0s - loss: 0.4317 - acc: 0.8203Epoch 00030: val_loss did not improve\n",
      "24000/24000 [==============================] - 1s - loss: 0.4319 - acc: 0.8199 - val_loss: 0.4356 - val_acc: 0.8168\n",
      "Epoch 32/40\n",
      "23616/24000 [============================>.] - ETA: 0s - loss: 0.4306 - acc: 0.8216- ETA: 1s - loss: 0.428Epoch 00031: val_loss did not improve\n",
      "24000/24000 [==============================] - 1s - loss: 0.4305 - acc: 0.8216 - val_loss: 0.4359 - val_acc: 0.8163\n",
      "Epoch 33/40\n",
      "21760/24000 [==========================>...] - ETA: 0s - loss: 0.4326 - acc: 0.8193- ETA: 0s - loss: 0.4304 - acc: 0.8Epoch 00032: val_loss did not improve\n",
      "24000/24000 [==============================] - 1s - loss: 0.4320 - acc: 0.8202 - val_loss: 0.4362 - val_acc: 0.8157\n",
      "Epoch 34/40\n",
      "23040/24000 [===========================>..] - ETA: 0s - loss: 0.4327 - acc: 0.8196- ETA: 0s - loss: 0.4260 - Epoch 00033: val_loss did not improve\n",
      "24000/24000 [==============================] - 1s - loss: 0.4311 - acc: 0.8209 - val_loss: 0.4355 - val_acc: 0.8158\n",
      "Epoch 35/40\n",
      "23936/24000 [============================>.] - ETA: 0s - loss: 0.4307 - acc: 0.8213Epoch 00034: val_loss did not improve\n",
      "24000/24000 [==============================] - 1s - loss: 0.4307 - acc: 0.8213 - val_loss: 0.4356 - val_acc: 0.8163\n",
      "Epoch 36/40\n",
      "23488/24000 [============================>.] - ETA: 0s - loss: 0.4308 - acc: 0.8214Epoch 00035: val_loss did not improve\n",
      "24000/24000 [==============================] - 1s - loss: 0.4305 - acc: 0.8215 - val_loss: 0.4365 - val_acc: 0.8155\n",
      "Epoch 37/40\n",
      "23296/24000 [============================>.] - ETA: 0s - loss: 0.4318 - acc: 0.8192Epoch 00036: val_loss did not improve\n",
      "24000/24000 [==============================] - 1s - loss: 0.4307 - acc: 0.8199 - val_loss: 0.4347 - val_acc: 0.8163\n",
      "Epoch 38/40\n",
      "22272/24000 [==========================>...] - ETA: 0s - loss: 0.4273 - acc: 0.8218Epoch 00037: val_loss did not improve\n",
      "24000/24000 [==============================] - 1s - loss: 0.4288 - acc: 0.8208 - val_loss: 0.4359 - val_acc: 0.8170\n",
      "Epoch 39/40\n",
      "22208/24000 [==========================>...] - ETA: 0s - loss: 0.4291 - acc: 0.8208Epoch 00038: val_loss did not improve\n",
      "24000/24000 [==============================] - 0s - loss: 0.4291 - acc: 0.8207 - val_loss: 0.4359 - val_acc: 0.8172\n",
      "Epoch 40/40\n",
      "23936/24000 [============================>.] - ETA: 0s - loss: 0.4286 - acc: 0.8220Epoch 00039: val_loss improved from 0.43432 to 0.43417, saving model to weights.hdf5\n",
      "24000/24000 [==============================] - 1s - loss: 0.4284 - acc: 0.8221 - val_loss: 0.4342 - val_acc: 0.8163\n"
     ]
    }
   ],
   "source": [
    " history = model.fit(X_train, y_train, batch_size = 64, epochs = 40, validation_data=[X_valid, y_valid], callbacks = [checkpoint])"
   ]
  },
  {
   "cell_type": "code",
   "execution_count": 31,
   "metadata": {},
   "outputs": [
    {
     "data": {
      "image/png": "[encoded data removed]",
      "text/plain": [
       "<matplotlib.figure.Figure at 0x7f16a53bdef0>"
      ]
     },
     "metadata": {},
     "output_type": "display_data"
    },
    {
     "data": {
      "image/png": "[encoded data removed]",
      "text/plain": [
       "<matplotlib.figure.Figure at 0x7f16a4fd5b70>"
      ]
     },
     "metadata": {},
     "output_type": "display_data"
    }
   ],
   "source": [
    "import matplotlib.pyplot as plt\n",
    "\n",
    "# Plot training & validation accuracy values\n",
    "plt.plot(history.history['acc'])\n",
    "plt.plot(history.history['val_acc'])\n",
    "plt.title('Model Accuracy')\n",
    "plt.ylabel('ACC')\n",
    "plt.xlabel('Epoch')\n",
    "plt.legend(['Train', 'Validation'], loc='best')\n",
    "plt.show()\n",
    "\n",
    "# Plot training & validation loss values\n",
    "plt.plot(history.history['loss'])\n",
    "plt.plot(history.history['val_loss'])\n",
    "plt.title('Model loss')\n",
    "plt.ylabel('Loss')\n",
    "plt.xlabel('Epoch')\n",
    "plt.legend(['Train', 'Validation'], loc='best')\n",
    "plt.show()"
   ]
  },
  {
   "cell_type": "code",
   "execution_count": 32,
   "metadata": {},
   "outputs": [
    {
     "name": "stdout",
     "output_type": "stream",
     "text": [
      "4128/6000 [===================>..........] - ETA: 0s"
     ]
    }
   ],
   "source": [
    "from sklearn.metrics import confusion_matrix, accuracy_score, roc_auc_score, precision_score, f1_score \n",
    "y_pred = model.predict(X_valid)\n",
    "probabilities = pd.DataFrame(model.predict_proba(X_valid))\n",
    "auc           = roc_auc_score(np.array(y_valid),np.array(probabilities))"
   ]
  },
  {
   "cell_type": "code",
   "execution_count": 33,
   "metadata": {},
   "outputs": [
    {
     "data": {
      "text/plain": [
       "0.77305815398662581"
      ]
     },
     "execution_count": 33,
     "metadata": {},
     "output_type": "execute_result"
    }
   ],
   "source": [
    "auc"
   ]
  },
  {
   "cell_type": "code",
   "execution_count": null,
   "metadata": {},
   "outputs": [],
   "source": []
  },
  {
   "cell_type": "markdown",
   "metadata": {},
   "source": [
    "### By comparing with other models, we found the neural network outperform than them in terms of AUC."
   ]
  }
 ],
 "metadata": {
  "coursera": {
   "course_slug": "deep-neural-network",
   "graded_item_id": "BFd89",
   "launcher_item_id": "AH2rK"
  },
  "kernelspec": {
   "display_name": "Python 3",
   "language": "python",
   "name": "python3"
  },
  "language_info": {
   "codemirror_mode": {
    "name": "ipython",
    "version": 3
   },
   "file_extension": ".py",
   "mimetype": "text/x-python",
   "name": "python",
   "nbconvert_exporter": "python",
   "pygments_lexer": "ipython3",
   "version": "3.7.4"
  }
 },
 "nbformat": 4,
 "nbformat_minor": 2
}
